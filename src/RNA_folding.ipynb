{
 "cells": [
  {
   "cell_type": "markdown",
   "metadata": {
    "id": "BfWFcU4_Rxfc"
   },
   "source": [
    "# Notes\n",
    "---\n",
    "*   Output are already saved under folder `/output`\n",
    "*   Notebook developed in Google Colab\n",
    "*   The following [RNA draw library](https://github.com/DasLab/draw_rna) was used to depict the RNA secondary structure"
   ]
  },
  {
   "cell_type": "markdown",
   "metadata": {
    "id": "cKUqTWeUR43h"
   },
   "source": [
    "# Libraries\n",
    "---"
   ]
  },
  {
   "cell_type": "code",
   "execution_count": 1,
   "metadata": {
    "executionInfo": {
     "elapsed": 908,
     "status": "ok",
     "timestamp": 1617481091680,
     "user": {
      "displayName": "George Rouvalis",
      "photoUrl": "https://lh3.googleusercontent.com/a-/AOh14GjOquqA-iZ8D0tVtvosCKyeJZFqyD7he_S0lJgp=s64",
      "userId": "07262416081964161526"
     },
     "user_tz": -180
    },
    "id": "TCC26TrJh3Bz"
   },
   "outputs": [],
   "source": [
    "import os\n",
    "import numpy as np\n",
    "import math\n",
    "import matplotlib.pyplot as plt\n",
    "import random\n",
    "import operator as op\n",
    "from functools import reduce"
   ]
  },
  {
   "cell_type": "markdown",
   "metadata": {
    "id": "LyAL3f9_PG-e"
   },
   "source": [
    "*if your are not using Google Colab, ignore/remove the block below or else modify it to match your Google Drive paths*"
   ]
  },
  {
   "cell_type": "code",
   "execution_count": 2,
   "metadata": {
    "colab": {
     "base_uri": "https://localhost:8080/"
    },
    "executionInfo": {
     "elapsed": 1432,
     "status": "ok",
     "timestamp": 1617481092210,
     "user": {
      "displayName": "George Rouvalis",
      "photoUrl": "https://lh3.googleusercontent.com/a-/AOh14GjOquqA-iZ8D0tVtvosCKyeJZFqyD7he_S0lJgp=s64",
      "userId": "07262416081964161526"
     },
     "user_tz": -180
    },
    "id": "6-hv94fJRPPP",
    "outputId": "34f508c4-ca26-4b92-b94f-2db0728765ef"
   },
   "outputs": [
    {
     "name": "stdout",
     "output_type": "stream",
     "text": [
      "Drive already mounted at /content/drive; to attempt to forcibly remount, call drive.mount(\"/content/drive\", force_remount=True).\n"
     ]
    }
   ],
   "source": [
    "# from google.colab import drive\n",
    "# drive.mount('/content/drive')\n",
    "# os.chdir(\"drive/My Drive/Colab Notebooks/Structural/Exercise1\")"
   ]
  },
  {
   "cell_type": "markdown",
   "metadata": {
    "id": "0tRdt7qoLIpy"
   },
   "source": [
    "# RNA folding\n",
    "\n",
    "---\n",
    "\n",
    "*RNA folding*\n"
   ]
  },
  {
   "cell_type": "markdown",
   "metadata": {
    "id": "0affclcqP6J3"
   },
   "source": [
    "### Initialization"
   ]
  },
  {
   "cell_type": "code",
   "execution_count": 3,
   "metadata": {
    "executionInfo": {
     "elapsed": 1428,
     "status": "ok",
     "timestamp": 1617481092210,
     "user": {
      "displayName": "George Rouvalis",
      "photoUrl": "https://lh3.googleusercontent.com/a-/AOh14GjOquqA-iZ8D0tVtvosCKyeJZFqyD7he_S0lJgp=s64",
      "userId": "07262416081964161526"
     },
     "user_tz": -180
    },
    "id": "-obZvWcpLRKd"
   },
   "outputs": [],
   "source": [
    "rna = 'AAUACUCCGUUGCAGCAU'\n",
    "length = len(rna)\n",
    "\n",
    "def initMatrices():\n",
    "    '''\n",
    "    Initializes and returns W and V matrices\n",
    "    '''\n",
    "\n",
    "    x = np.zeros((length, length))\n",
    "    y = np.zeros((length, length))\n",
    "    for i in range(length):\n",
    "        for j in range(length):\n",
    "            if j - i < 5:\n",
    "                x[i][j] = np.inf\n",
    "                y[i][j] = np.inf\n",
    "            else:\n",
    "                x[i][j] = np.nan\n",
    "                y[i][j] = np.nan\n",
    "    return x, y\n",
    "    \n",
    "\n",
    "W, V = initMatrices()"
   ]
  },
  {
   "cell_type": "markdown",
   "metadata": {
    "id": "D0QDQhVOQJhp"
   },
   "source": [
    "### Energy of structures"
   ]
  },
  {
   "cell_type": "code",
   "execution_count": 4,
   "metadata": {
    "executionInfo": {
     "elapsed": 1427,
     "status": "ok",
     "timestamp": 1617481092210,
     "user": {
      "displayName": "George Rouvalis",
      "photoUrl": "https://lh3.googleusercontent.com/a-/AOh14GjOquqA-iZ8D0tVtvosCKyeJZFqyD7he_S0lJgp=s64",
      "userId": "07262416081964161526"
     },
     "user_tz": -180
    },
    "id": "i2NOGkc4QNej"
   },
   "outputs": [],
   "source": [
    "def s(i,j):\n",
    "    '''\n",
    "    Returns stem energy\n",
    "\n",
    "    @i, j: indexes of bases to check their bond\n",
    "    '''\n",
    "    if rna[i]+rna[j] in [\"GC\", \"CG\",\"AU\", \"UA\"]:\n",
    "        return -4\n",
    "    if rna[i]+rna[j] in [\"GU\", \"UG\"]:\n",
    "        return 0\n",
    "    else:\n",
    "        return 4\n",
    "\n",
    "def h(j, i):\n",
    "    '''\n",
    "    Returns hairpin energy\n",
    "\n",
    "    @i, j: indexes of bases\n",
    "    '''\n",
    "    return 2*(i-j+5)"
   ]
  },
  {
   "cell_type": "markdown",
   "metadata": {
    "id": "W8MJXXODQSJE"
   },
   "source": [
    "### Computing secondary structure\n",
    "<br>\n",
    "$W(i, j)=\\min \\left\\{\\begin{array}{l}W(i-1, j), \\\\ W(i, j+1), \\\\ V(i, j), \\quad(i, j) \\text { defines structural element, } \\\\ \\min _{k}\\{W(i, k)+W(k-1, j): j+1<k<i\\},\\end{array}\\right.$\n",
    "<br><br>  \n",
    "\n",
    "$V(i, j)=\\min \\left\\{\\begin{array}{ll}s(i, j)+h(i-1, j+1) & \\text { hairpin: unmatched } r_{j+1}, \\ldots, r_{i-1} \\\\ s(i, j)+W(i-1, j+1) & \\text { match }(i, j), \\text { then } r_{j+1}, \\ldots, r_{i-1} \\\\ \\end{array}\\right.$"
   ]
  },
  {
   "cell_type": "code",
   "execution_count": 5,
   "metadata": {
    "colab": {
     "base_uri": "https://localhost:8080/"
    },
    "executionInfo": {
     "elapsed": 18263,
     "status": "ok",
     "timestamp": 1617481109049,
     "user": {
      "displayName": "George Rouvalis",
      "photoUrl": "https://lh3.googleusercontent.com/a-/AOh14GjOquqA-iZ8D0tVtvosCKyeJZFqyD7he_S0lJgp=s64",
      "userId": "07262416081964161526"
     },
     "user_tz": -180
    },
    "id": "E0Wx4P_bJYN1",
    "outputId": "3ce0188e-9da2-4f12-dd50-a32b86b01afc"
   },
   "outputs": [
    {
     "name": "stdout",
     "output_type": "stream",
     "text": [
      "=============== W =================\n",
      "\n",
      "[[inf inf inf inf inf 12. 12. 12. 12. 12. 10. 10. 10.  8.  4.  4.  0. -4.]\n",
      " [inf inf inf inf inf inf 20. 20. 18. 14. 10. 10. 10.  8.  4.  4.  0. -4.]\n",
      " [inf inf inf inf inf inf inf 20. 18. 14. 14. 12. 12.  8.  4.  4.  0.  0.]\n",
      " [inf inf inf inf inf inf inf inf 20. 14. 14. 12. 12.  8.  4.  4.  4.  0.]\n",
      " [inf inf inf inf inf inf inf inf inf 20. 20. 12. 12.  8.  4.  4.  4.  4.]\n",
      " [inf inf inf inf inf inf inf inf inf inf 20. 12. 12.  8.  8.  8.  8.  8.]\n",
      " [inf inf inf inf inf inf inf inf inf inf inf 12. 12. 12. 12. 12. 12. 12.]\n",
      " [inf inf inf inf inf inf inf inf inf inf inf inf 20. 20. 16. 12. 12. 12.]\n",
      " [inf inf inf inf inf inf inf inf inf inf inf inf inf 20. 16. 12. 12. 12.]\n",
      " [inf inf inf inf inf inf inf inf inf inf inf inf inf inf 16. 16. 14. 14.]\n",
      " [inf inf inf inf inf inf inf inf inf inf inf inf inf inf inf 20. 14. 14.]\n",
      " [inf inf inf inf inf inf inf inf inf inf inf inf inf inf inf inf 20. 18.]\n",
      " [inf inf inf inf inf inf inf inf inf inf inf inf inf inf inf inf inf 20.]\n",
      " [inf inf inf inf inf inf inf inf inf inf inf inf inf inf inf inf inf inf]\n",
      " [inf inf inf inf inf inf inf inf inf inf inf inf inf inf inf inf inf inf]\n",
      " [inf inf inf inf inf inf inf inf inf inf inf inf inf inf inf inf inf inf]\n",
      " [inf inf inf inf inf inf inf inf inf inf inf inf inf inf inf inf inf inf]\n",
      " [inf inf inf inf inf inf inf inf inf inf inf inf inf inf inf inf inf inf]]\n",
      "\n",
      "=============== V =================\n",
      "\n",
      "[[inf inf inf inf inf 12. 22. 24. 24. 14. 10. 14. 14. 14. 12.  8.  8. -4.]\n",
      " [inf inf inf inf inf inf 20. 22. 24. 14. 10. 18. 16. 16. 12.  8.  8. -4.]\n",
      " [inf inf inf inf inf inf inf 20. 18. 24. 18. 14. 16.  8.  8.  8.  0.  8.]\n",
      " [inf inf inf inf inf inf inf inf 20. 14. 16. 24. 16. 16. 12.  8.  8.  0.]\n",
      " [inf inf inf inf inf inf inf inf inf 20. 22. 16. 16. 16.  4. 12. 12. 12.]\n",
      " [inf inf inf inf inf inf inf inf inf inf 20. 18. 16.  8. 12. 16.  8. 16.]\n",
      " [inf inf inf inf inf inf inf inf inf inf inf 12. 22. 24. 16. 20. 16. 16.]\n",
      " [inf inf inf inf inf inf inf inf inf inf inf inf 20. 22. 16. 20. 16. 16.]\n",
      " [inf inf inf inf inf inf inf inf inf inf inf inf inf 20. 22. 12. 20. 14.]\n",
      " [inf inf inf inf inf inf inf inf inf inf inf inf inf inf 16. 22. 16. 18.]\n",
      " [inf inf inf inf inf inf inf inf inf inf inf inf inf inf inf 20. 14. 24.]\n",
      " [inf inf inf inf inf inf inf inf inf inf inf inf inf inf inf inf 20. 18.]\n",
      " [inf inf inf inf inf inf inf inf inf inf inf inf inf inf inf inf inf 20.]\n",
      " [inf inf inf inf inf inf inf inf inf inf inf inf inf inf inf inf inf inf]\n",
      " [inf inf inf inf inf inf inf inf inf inf inf inf inf inf inf inf inf inf]\n",
      " [inf inf inf inf inf inf inf inf inf inf inf inf inf inf inf inf inf inf]\n",
      " [inf inf inf inf inf inf inf inf inf inf inf inf inf inf inf inf inf inf]\n",
      " [inf inf inf inf inf inf inf inf inf inf inf inf inf inf inf inf inf inf]]\n"
     ]
    }
   ],
   "source": [
    "def get_min_k(j, i):\n",
    "    '''\n",
    "    Returns minimum value between the cells W[k,i], W(j, k - 1)\n",
    "\n",
    "    @j, i:  \n",
    "    '''\n",
    "\n",
    "    minimum = float('inf')\n",
    "    min_k = -1\n",
    "    for k in range (j + 2, i):\n",
    "        result = fillW(k, i) + fillW(j, k - 1)\n",
    "        if result < minimum :\n",
    "            minimum = result\n",
    "            min_k = k\n",
    "    return minimum\n",
    "\n",
    "def fillW(j, i):\n",
    "    '''\n",
    "    Returns the energy of optimal structure for W(j, i)\n",
    "\n",
    "    @i, j: indexes\n",
    "    '''\n",
    "\n",
    "    if i >= j + 5: \n",
    "        W[j][i] = min(\n",
    "            fillW(j, i -1),\n",
    "            fillW(j+1, i),\n",
    "            fillV(j, i),\n",
    "            get_min_k(j, i)\n",
    "        )\n",
    "    \n",
    "    return W[j][i]\n",
    "\n",
    "\n",
    "def fillV(j, i):\n",
    "    '''\n",
    "    Returns the energy of optimal structure for V(j, i) assuming (i, j) \n",
    "    is paired AND defines specific structural element\n",
    "\n",
    "    @i, j: indexes\n",
    "    '''\n",
    "\n",
    "    V[j][i] = min(\n",
    "        s(j,i) + h(j+1, i-1),\n",
    "        s(j,i) + fillW(j+1, i-1)\n",
    "    )\n",
    "\n",
    "    return V[j][i]\n",
    "\n",
    "fillW(0, length-1)\n",
    "print(\"=============== W =================\\n\")\n",
    "print(W)\n",
    "print(\"\\n=============== V =================\\n\")\n",
    "print(V)"
   ]
  },
  {
   "cell_type": "markdown",
   "metadata": {
    "id": "0J1Iz79tWj2u"
   },
   "source": [
    "### Backtrack Path\n",
    "\n",
    "Starting again from the top right cell, we inspect the bottom - left neighbours   \n",
    "to find whether the value was derived from one of them. If not then diagonal neighbour is checked. The 4th condition of W matrix never gets fullfilled for our particular data, so it's not into consideration, even though that's not a generalized move. Everytime, a condition is checked and matches the value of a position in W, the direction of path is saved into a list."
   ]
  },
  {
   "cell_type": "code",
   "execution_count": 6,
   "metadata": {
    "colab": {
     "base_uri": "https://localhost:8080/"
    },
    "executionInfo": {
     "elapsed": 18258,
     "status": "ok",
     "timestamp": 1617481109049,
     "user": {
      "displayName": "George Rouvalis",
      "photoUrl": "https://lh3.googleusercontent.com/a-/AOh14GjOquqA-iZ8D0tVtvosCKyeJZFqyD7he_S0lJgp=s64",
      "userId": "07262416081964161526"
     },
     "user_tz": -180
    },
    "id": "j-fbYQ2K5w2g",
    "outputId": "26279e45-2472-47f3-9480-2ac662266032"
   },
   "outputs": [
    {
     "name": "stdout",
     "output_type": "stream",
     "text": [
      "['bottom', 'diagonal', 'diagonal', 'left', 'bottom', 'diagonal', 'diagonal', 'left', 'hairpin']\n"
     ]
    }
   ],
   "source": [
    "backtrack = []\n",
    "i, j = 17, 0\n",
    "while i -j >= 5:\n",
    "    left = W[j][i-1] \n",
    "    bottom = W[j+1][i] \n",
    "    diagonal = V[j][i]  \n",
    "\n",
    "    if W[j][i] == left:\n",
    "        backtrack.append(\"left\")\n",
    "        i -= 1\n",
    "    elif W[j][i] == bottom:\n",
    "        backtrack.append(\"bottom\")\n",
    "        j += 1 \n",
    "    elif W[j][i] == diagonal:\n",
    "        if diagonal == s(j,i) + h(j+1, i-1):\n",
    "            backtrack.append(\"hairpin\")\n",
    "        elif diagonal == s(j,i) + W[j+1, i-1]:\n",
    "            backtrack.append(\"diagonal\")\n",
    "        j += 1 \n",
    "        i -= 1\n",
    "                \n",
    "print(backtrack)"
   ]
  },
  {
   "cell_type": "markdown",
   "metadata": {
    "id": "eag0NtmBE7Qo"
   },
   "source": [
    "### Results\n",
    "\n",
    "From top-right cell of W matrix, we get the following backtrace path:  \n",
    "['bottom', 'diagonal', 'diagonal', 'left', 'bottom', 'diagonal', 'diagonal', 'left', 'hairpin']\n",
    "\n",
    "![Screenshot_1.png](data:image/png;base64,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)\n",
    "\n",
    "And it's notation: .((.((.......)).))\n",
    "\n",
    "![rna_fold.png](data:image/png;base64,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)"
   ]
  }
 ],
 "metadata": {
  "colab": {
   "authorship_tag": "ABX9TyNzhyaq05n3YgrrUPuWPgv0",
   "collapsed_sections": [],
   "name": "Assignment1_GeorgeRouvalis.ipynb",
   "provenance": []
  },
  "kernelspec": {
   "display_name": "Python 3",
   "language": "python",
   "name": "python3"
  },
  "language_info": {
   "codemirror_mode": {
    "name": "ipython",
    "version": 3
   },
   "file_extension": ".py",
   "mimetype": "text/x-python",
   "name": "python",
   "nbconvert_exporter": "python",
   "pygments_lexer": "ipython3",
   "version": "3.8.5"
  }
 },
 "nbformat": 4,
 "nbformat_minor": 1
}
